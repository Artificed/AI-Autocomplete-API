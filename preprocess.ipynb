{
 "cells": [
  {
   "cell_type": "code",
   "execution_count": null,
   "metadata": {},
   "outputs": [],
   "source": [
    "import os\n",
    "\n",
    "with open(\"dataset.txt\", \"a\", encoding=\"utf-8\") as outfile:\n",
    "    for filename in os.listdir('dataset/'):\n",
    "        file_path = os.path.join('dataset', filename)\n",
    "        try:\n",
    "            with open(file_path, \"r\", encoding=\"utf-8\") as infile:\n",
    "                lines = infile.readlines()\n",
    "                lines = [line.strip() for line in lines if line.strip()]\n",
    "                outfile.write(\"\\n\".join(lines) + \"\\n\")\n",
    "        except Exception as e:\n",
    "            print(f\"Error reading file '{file_path}': {e}\")\n",
    "            os.remove(file_path)"
   ]
  },
  {
   "cell_type": "code",
   "execution_count": 6,
   "metadata": {},
   "outputs": [],
   "source": [
    "LINES = 100000\n",
    "\n",
    "counter = 0\n",
    "with open(\"dataset.txt\", \"r\") as infile:\n",
    "    with open(\"test.txt\", \"w\") as outfile:\n",
    "        for line in infile.readlines():\n",
    "            outfile.write(line)\n",
    "            counter += 1\n",
    "            if counter == LINES:\n",
    "                break"
   ]
  }
 ],
 "metadata": {
  "kernelspec": {
   "display_name": "AI",
   "language": "python",
   "name": "python3"
  },
  "language_info": {
   "codemirror_mode": {
    "name": "ipython",
    "version": 3
   },
   "file_extension": ".py",
   "mimetype": "text/x-python",
   "name": "python",
   "nbconvert_exporter": "python",
   "pygments_lexer": "ipython3",
   "version": "3.10.9"
  }
 },
 "nbformat": 4,
 "nbformat_minor": 2
}
